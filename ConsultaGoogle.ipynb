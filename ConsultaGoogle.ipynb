{
 "cells": [
  {
   "cell_type": "code",
   "execution_count": 12,
   "id": "c917b956",
   "metadata": {},
   "outputs": [
    {
     "name": "stderr",
     "output_type": "stream",
     "text": [
      "\n",
      "\n",
      "====== WebDriver manager ======\n",
      "Current google-chrome version is 100.0.4896\n",
      "Get LATEST chromedriver version for 100.0.4896 google-chrome\n",
      "Driver [/Users/joaodematejr/.wdm/drivers/chromedriver/mac64/100.0.4896.60/chromedriver] found in cache\n",
      "/var/folders/91/k60k03dx25vgrgh72j027fj00000gn/T/ipykernel_16224/1805018382.py:5: DeprecationWarning: executable_path has been deprecated, please pass in a Service object\n",
      "  driver = webdriver.Chrome(ChromeDriverManager().install())\n"
     ]
    }
   ],
   "source": [
    "# Loading the Libraries:\n",
    "\n",
    "from selenium import webdriver\n",
    "from webdriver_manager.chrome import ChromeDriverManager\n",
    "driver = webdriver.Chrome(ChromeDriverManager().install())\n",
    "from bs4 import BeautifulSoup # for scraping webpages\n",
    "import time  \n",
    "from bs4.element import Tag"
   ]
  },
  {
   "cell_type": "code",
   "execution_count": 13,
   "id": "8c932a44",
   "metadata": {},
   "outputs": [],
   "source": [
    "# I will be running the query on \"Data Analytics\"\n",
    "query = 'Data Analytics'"
   ]
  },
  {
   "cell_type": "code",
   "execution_count": 21,
   "id": "240de892",
   "metadata": {},
   "outputs": [],
   "source": [
    "import urllib\n",
    "query_1 = query\n",
    "query_1 = urllib.parse.quote_plus(query) # Format into URL encoding\n",
    "number_result = 1000\n",
    "\n",
    "import requests\n",
    "from fake_useragent import UserAgent\n",
    "\n",
    "ua = UserAgent()"
   ]
  },
  {
   "cell_type": "code",
   "execution_count": 25,
   "id": "c4e0baa5",
   "metadata": {},
   "outputs": [
    {
     "name": "stdout",
     "output_type": "stream",
     "text": [
      "['Data Analytics: O que é? Conheça os 4 Tipos e Como Utilizar', 'O que é data analytics? Processo e exemplos | Alteryx', 'Diferença entre Data Science, Big Data & Data Analytics - Cetax', 'What is Data Analytics?', '5 Types of Data Analytics And Their Prominence - SoulPage IT Solutions', 'How to Become a Data Analyst | Career and Salary Information', '9 Data Analytics Examples | Rasmussen University', 'Data Analytics - Digital House', 'Curso Data Analytics - Tera', 'O que é Data Analytics? Aquarela Advanced Analytics', 'Data Analytics: o que é e por que ele é diferente do Big Data', 'O que é Data Analytics? - Qexpert', 'O que é data analytics? Entenda o conceito e 7 erros para ...', 'Curso Data Analytics para resilientes! | Resilia Educação', '6 motivos para aprender sobre Data Analytics | Ironhack Blog', 'Data Analytics - PwC Brasil', 'What is Data Analytics?', 'Data Analytics Definition - Investopedia', 'Data Science, Big Data e Data Analytics: qual é a diferença?', 'Especialista em Data Analytics | IGTI', 'Data analytics: o que é e por que usar na sua empresa?', 'Big Data Analytics: você sabe o que é? - SantoDigital', 'Data analytics: o que é, tipos e aplicações nas empresas', 'Entenda a diferença entre Big Data e Data Analytics - Blog ...', 'Do conceito à aplicação - entenda o que é Data Analytics', 'Data Analytics: por que é preciso na sua empresa? - Under', 'NYC Analytics', 'Data analytics: entenda o que é e por que você deve utilizá-lo', 'Certificado Profissional Análise de dados do Google | Coursera', 'Datascy - Curso de Ciência de Dados e Data Analytics', 'Big Data Analytics: você sabe o que é e como funciona? - Voitto', 'Serviços de Data Analytics - EY', 'O que é Big Data Analytics e quais os tipos existentes? - Blog ...', 'Data Analytics X Data Science: Você sabe quais são as ... - DNC', 'What is Data Analytics? | TIBCO Software', 'Learn Data Analysis with Online Courses, Classes, & Lessons', 'Data Science and Big Data Analytics: Discovering, Analyzing ...', 'What is Data Analytics | Oracle Brasil', 'O que é Big Data Analytics e quais os benefícios dessa ...', 'Data Analytics Innovation - Inovação em Dados - ebdi corp', 'Big Data Analytics: What it is and why it matters | SAS', 'What is Data Analytics and its Future Scope in 2021', 'Bolsas Santander Tecnologia | Data Analytics and Data Science', 'Google Analytics', 'O valor do Big Data Analytics na tomada de decisão - Ludos Pro', 'Por dentro do Big Data Analytics: conceito e aplicações práticas', 'Smart Analytics | Data Analytics Solutions | Google Cloud', 'What is Data Analytics? - Definition from WhatIs.com', \"What's the Difference Between Data Analytics & Data Science?\", 'Data Analyst Online Course | Data Analytics - Udacity', 'Data Analytics | Drew University', 'What Is Data Analytics? [Full Guide for 2022] - CareerFoundry', 'Competência Data Analytics - Microsoft Partner Network', 'Data analysis - Wikipedia', 'Data Analytics', 'Entenda o que é Data Analytics e como ele pode ser útil para ...', 'Top 5 áreas que mais utilizam Data Analytics - MJV Innovation', 'Big Data Analytics | IBM', 'Data analytics | Nesta', 'Big Data, Analytics e Inteligência Artificial para Lideranças na ...', 'Data analytics: como colocá-la no centro do negócio?', 'Data Analytics - Merit America', 'Data Analytics | UMGC', 'Data Analytics: o que é e qual sua importância | Blog TreinaWeb', 'O que é data analytics e como usá-la na sua empresa | Acervo', 'Big Data Analytics: tudo que você precisa entender | Runrun.it', 'Data Analytics Services & Solutions | Accenture', 'Data Analytics: o que é e como ele pode transformar o seu ...', 'Data Analytics | umlaut', '7 vantagens de trabalhar com Data Analytics - BDA Solutions', 'Top Data Analysis Courses Online - Updated [April 2022]', 'Online Masters in Data Analytics | WGU', 'What is data analytics? Analyzing and managing ... - CIO.com', 'Data Analytics (MS) | Academic Programs - San Jose State ...', 'Como fazer Big Data Analytics de forma adequada à LGPD?', 'What Is Data Analytics? - 4 Ways to Use Data Analytics - Lotame', 'Afinal, o business intelligence faz parte do Data Analytics ...', 'Big Data, Data Science e Data Analytics - EAD - Unisinos', 'Big Data, Analytics e Mercado | Futebol Interativo', 'Google Data Analytics Certificate', 'Data Analytics: o que é e por que você deve usar | Colmeia', 'Big Data Analytics recent news | page 1 of 245', 'Data Analytics and Machine Learning Applications | Altair', 'Data Analytics Services Online | Fiverr', 'Home | Data Analytics Major', 'Big Data Analytics: What It Is & How It Works | Tableau', 'data analytics - Tradução em português - exemplos inglês', \"Master's in Data Analytics Online | MS Degree Program | SNHU\", 'What Is Data Analytics? - Intel', 'Big Data Analytics: Saiba como ele pode alavancar a sua ...', 'Big Data e Global Edge Analytics - T-Systems', 'LSE Data Analytics Online Career Accelerator', 'Data Analytics - Langara. Programs & Courses', 'Data Analytics - an overview | ScienceDirect Topics', 'O papel de Data Analytics dentro da Indústria 4.0 - Money Times', 'Bootcamp de Data Analytics: monitorando dados da guerra ...', \"Data Analytics (MSc) | Courses | Queen's University Belfast\", 'Data analytics: a ciência que ajuda a transformar a jornada do ...', 'Data and Analytics: Everything You Need to Know | Gartner', 'Imagens', None]\n",
      "['https://www.fiveacts.com.br/data-analytics/', 'https://www.alteryx.com/pt-br/glossary/data-analytics', 'https://www.cetax.com.br/blog/data-science-vs-big-data-vs-data-analytics/', 'https://www.mastersindatascience.org/learning/what-is-data-analytics/', 'https://soulpageit.com/5-types-of-data-analytics-and-their-prominence/', 'https://www.discoverdatascience.org/career-information/data-analyst/', 'https://www.rasmussen.edu/degrees/technology/blog/data-analytics-examples/', 'https://www.digitalhouse.com/br/produtos/dados/data-analytics', 'https://somostera.com/cursos/data-analytics', 'https://www.aquare.la/o-que-e-data-analytics/', 'https://deskmanager.com.br/blog/data-analytics/', 'https://qexpert.com.br/news/o-que-e-data-analytics/', 'https://www.oncase.com.br/blog/data-driven/o-que-e-data-analytics/', 'https://www.resilia.com.br/curso-data-analytics/', 'https://www.ironhack.com/br/data-analytics/6-motivos-para-aprender-sobre-data-analytics', 'https://www.pwc.com.br/pt/consultoria-negocios/data-analytics.html', 'https://www.mastersindatascience.org/learning/what-is-data-analytics/', 'https://www.investopedia.com/terms/d/data-analytics.asp', 'https://posdigital.pucpr.br/blog/diferenca-data-science-big-data-data-analytics', 'https://www.igti.com.br/trilhas-de-especializacao/data-analytics', 'https://www.zendesk.com.br/blog/data-analytics-o-que-e/', 'https://santodigital.com.br/big-data-analytics-voce-sabe-o-que-e/', 'https://www.totvs.com/blog/negocios/data-analytics/', 'https://blog.academiain1.com.br/entenda-a-diferenca-entre-big-data-e-data-analytics/', 'http://www.maximizasoftware.com.br/noticias/do-conceito-a-aplicacao-entenda-o-que-e-data-analytics/', 'https://under.com.br/data-analytics-por-que-voce-precisa-aplicar-na-sua-empresa-agora/', 'https://www1.nyc.gov/site/analytics/index.page', 'https://migreseunegocio.com.br/data-analytics-entenda-o-que/', 'https://pt.coursera.org/professional-certificates/google-data-analytics', 'https://www.datascy.com/', 'https://www.voitto.com.br/blog/artigo/big-data-analytics', 'https://www.ey.com/pt_br/strategy-transactions/ey-business-modeling-data-analytics/servicos-de-data-analytics', 'https://blog.compila.com.br/big-data-analytics/', 'https://dnc.group/blog/data-science/diferencas-data-analytics-e-data-science/', 'https://www.tibco.com/reference-center/what-is-data-analytics', 'https://www.edx.org/learn/data-analysis', 'https://www.amazon.com.br/Data-Science-Big-Analytics-Discovering/dp/111887613X', 'https://www.oracle.com/br/business-analytics/data-analytics/', 'https://www.digiage.com.br/inovacao-e-novas-tecnologias/o-que-e-big-data-analytics/', 'https://ebdicorp.com.br/encontros/data-analytics-innovation/', 'https://www.sas.com/en_us/insights/analytics/big-data-analytics.html', 'https://www.simplilearn.com/tutorials/data-analytics-tutorial/what-is-data-analytics', 'https://app.becas-santander.com/pt-BR/program/bolsas-santander-tecnologia-data-analytics-and-data-science', 'https://analytics.google.com/analytics/web/', 'https://www.ludospro.com.br/blog/big-data-analytics', 'https://blog.neoway.com.br/big-data-analytics/', 'https://cloud.google.com/solutions/smart-analytics', 'https://www.techtarget.com/searchdatamanagement/definition/data-analytics', 'https://online.hbs.edu/blog/post/data-analytics-vs-data-science', 'https://www.udacity.com/course/data-analyst-nanodegree--nd002', 'https://drew.edu/caspersen/data-analytics/', 'https://careerfoundry.com/en/blog/data-analytics/what-is-data-analytics/', 'https://partner.microsoft.com/pt-br/membership/data-analytics-competency', 'https://en.wikipedia.org/wiki/Data_analysis', 'https://www.masterhouse.com.br/data-analytics', 'http://blog.multiedro.com.br/data-analytics/', 'https://www.mjvinnovation.com/pt-br/blog/areas-data-analytics/', 'https://www.ibm.com/analytics/big-data-analytics', 'https://www.nesta.org.uk/project/data-analytics/', 'https://ensino.einstein.br/big_data_analytics_e_inteligencia_artifici_p2689/p', 'https://www.supero.com.br/blog/data-analytics-como-coloca-la-no-centro-do-negocio/', 'https://meritamerica.org/courses/data-analytics/', 'https://www.umgc.edu/data-analytics', 'https://www.treinaweb.com.br/blog/data-analytics-o-que-e-e-qual-sua-importancia', 'https://acervonet.com.br/blog/o-que-e-data-analytics-e-como-usa-la-na-sua-empresa/', 'https://blog.runrun.it/big-data-analytics/', 'https://www.accenture.com/us-en/services/data-analytics-index', 'https://refinariadedados.com.br/artigos/data-analytics/', 'https://www.umlaut.com/en/capabilities/data-analytics', 'https://bdasolutions.com.br/2019/07/7-vantagens-de-trabalhar-com-data-analytics/', 'https://www.udemy.com/topic/data-analysis/', 'https://www.wgu.edu/online-it-degrees/data-analytics-masters-program.html', 'https://www.cio.com/article/191313/what-is-data-analytics-analyzing-and-managing-data-for-decisions.html', 'https://www.sjsu.edu/pdp/programs/msda/', 'https://ndmadvogados.com.br/artigos/como-fazer-big-data-analytics-de-forma-adequada-lgpd', 'https://www.lotame.com/what-is-data-analytics/', 'https://farolbi.com.br/business-intelligence-faz-parte-do-data-analytics/', 'https://www.unisinos.br/pos/especializacao/big-data-data-science-e-data-analytics/ead', 'https://futebolinterativo.com/cursos/especializacao-big-data-analytics-mercado/', 'https://grow.google/certificates/data-analytics/', 'https://colmeia.me/data-analytics-o-que-e-e-por-que-voce-deve-usar-na-sua-empresa/', 'https://www.informationweek.com/big-data-analytics', 'https://www.altair.com/data-analytics/', 'https://www.fiverr.com/categories/data/data-analytics', 'https://data-analytics.osu.edu/', 'https://www.tableau.com/learn/articles/big-data-analytics', 'https://context.reverso.net/traducao/ingles-portugues/data+analytics', 'https://www.snhu.edu/online-degrees/masters/ms-in-data-analytics', 'https://www.intel.com.br/content/www/br/pt/analytics/what-is-data-analytics.html', 'https://blog.csptecnologia.com/big-data-analytics-o-que-e-quais-os-seus-beneficios/', 'https://www.t-systems.com/br/pt/digital/digital-business-transformation/big-data-analytics', 'https://www.lse.ac.uk/study-at-lse/online-learning/courses/data-analytics', 'https://langara.ca/programs-and-courses/programs/data-analytics/index.html', 'https://www.sciencedirect.com/topics/social-sciences/data-analytics', 'https://www.moneytimes.com.br/o-papel-de-data-analytics-dentro-da-industria-4-0/', 'https://fasam.edu.br/bootcamp-de-data-analytics-monitorando-dados-da-guerra-entre-russia-e-ucrania-por-meio-de-redes-sociais-do-projeto-a-solucao/', 'https://www.qub.ac.uk/courses/postgraduate-taught/data-analytics-msc/', 'https://www.connvert.com.br/blog/data-analytics-a-ciencia-de-entender-comportamentos-para-transformar-a-jornada-do-consumidor/', 'https://www.gartner.com/en/topics/data-and-analytics', '/search?q=Data+Analytics&num=100&tbm=isch&source=iu&ictx=1&vet=1&fir=TMgI1f-dlU4vzM%252CUldOPdEa5AUodM%252C%252Fm%252F02gcn9%253B8GyGauzult0NNM%252CC1sAQcT-ii5EyM%252C_%253BB0UgJYKlw0hnjM%252Coc-CQoSe2HJ-YM%252C_%253B6wYbJVLIpuYFDM%252C4puoL8C2ce367M%252C_%253Bf8kuJWbr7AjaDM%252C3WNaldWL61W4KM%252C_%253BNGchFtE0trxz-M%252CwZfehSTSOioA6M%252C_&usg=AI4_-kQDIRIKc9Or2NjscLeacreWXszIuQ&sa=X&ved=2ahUKEwjo3b-17bL3AhVsg5UCHVGAA8oQ_B16BQjIARAB#imgrc=TMgI1f-dlU4vzM', '/search?num=100&q=An%C3%A1lise+de+dados&si=ANhW_Nq9CULCgfbkOw6kvWfPvXut0BPdGHmZQn22eGERa4k2kstfyjHFeB_TyCB_lNgctuYMtUc-RmAfq4YJ3rdVmEks3HyDDJpYJzqXcigS747IvGrC4AOQRgjcYCzEPJhDsdKGV3m6EuN88yBBYv3_1at0DPnJBRX1so9wBAZL5GpkYzVoQUw%3D&sa=X&ved=2ahUKEwjo3b-17bL3AhVsg5UCHVGAA8oQ6RN6BQjzAhAB']\n",
      "[None, None, None, None, None, None, None, None, None, None, None, None, None, None, None, None, None, None, None, None, None, None, None, None, None, None, None, None, None, None, None, None, None, None, None, None, None, None, None, None, None, None, None, None, None, None, None, None, None, None, None, None, None, None, None, None, None, None, None, None, None, None, None, None, None, None, None, None, None, None, None, None, None, None, None, None, None, None, None, None, None, None, None, None, None, None, None, None, None, None, None, None, None, None, None, None, None, None, None, None, None]\n",
      "Consulta Concluida, Arquivo Criado com Sucesso!!!\n"
     ]
    }
   ],
   "source": [
    "driver = webdriver.Chrome('chromedriver')\n",
    "google_url = \"https://www.google.com/search?q=\" + query + \"&num=\" + str(number_result)\n",
    "driver.get(google_url)\n",
    "time.sleep(3)\n",
    "\n",
    "soup = BeautifulSoup(driver.page_source,'lxml')\n",
    "result_div = soup.find_all('div', attrs={'class': 'g'})\n",
    "\n",
    "\n",
    "links = []\n",
    "titles = []\n",
    "descriptions = []\n",
    "for r in result_div:\n",
    "    # Checks if each element is present, else, raise exception\n",
    "    try:\n",
    "        link = r.find('a', href=True)\n",
    "        title = None\n",
    "        title = r.find('h3')\n",
    "\n",
    "        if isinstance(title,Tag):\n",
    "            title = title.get_text()\n",
    "\n",
    "        description = None\n",
    "        description = r.find('span', attrs={'class': 'st'})\n",
    "\n",
    "        if isinstance(description, Tag):\n",
    "            description = description.get_text()\n",
    "\n",
    "        # Check to make sure everything is present before appending\n",
    "        if link != '' and title != '' and description != '':\n",
    "            links.append(link['href'])\n",
    "            titles.append(title)\n",
    "            descriptions.append(description)\n",
    "    # Next loop if one element is not present\n",
    "    except Exception as e:\n",
    "        print(e)\n",
    "        continue\n",
    "\n",
    "print(titles)\n",
    "print(links)\n",
    "print(descriptions)\n",
    "\n",
    "#csv_file = open('result.csv', 'w')\n",
    "#csv_writer = csv.writer(csv_file)\n",
    "#csv_writer.writerow(['URL', 'Title' ])\n",
    "#for x in links:\n",
    "#    csv_writer.writerow([x])\n",
    "#csv_file.close()\n",
    "print(\"Consulta Concluida, Arquivo Criado com Sucesso!!!\")\n"
   ]
  },
  {
   "cell_type": "code",
   "execution_count": null,
   "id": "d57c6d9e",
   "metadata": {},
   "outputs": [],
   "source": []
  },
  {
   "cell_type": "code",
   "execution_count": null,
   "id": "1cfaf81b",
   "metadata": {},
   "outputs": [],
   "source": []
  }
 ],
 "metadata": {
  "kernelspec": {
   "display_name": "Python 3 (ipykernel)",
   "language": "python",
   "name": "python3"
  },
  "language_info": {
   "codemirror_mode": {
    "name": "ipython",
    "version": 3
   },
   "file_extension": ".py",
   "mimetype": "text/x-python",
   "name": "python",
   "nbconvert_exporter": "python",
   "pygments_lexer": "ipython3",
   "version": "3.9.7"
  }
 },
 "nbformat": 4,
 "nbformat_minor": 5
}
